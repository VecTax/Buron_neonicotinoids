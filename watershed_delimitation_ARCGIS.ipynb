{
 "cells": [
  {
   "cell_type": "code",
   "execution_count": null,
   "metadata": {
    "scrolled": true
   },
   "outputs": [],
   "source": [
    "# Set environment\n",
    "arcpy.CheckOutExtension(\"Spatial\")\n",
    "arcpy.env.workspace = \"environment_path.gdb\"\n",
    "arcpy.env.overwriteOutput = True\n",
    "\n",
    "import re"
   ]
  },
  {
   "cell_type": "code",
   "execution_count": null,
   "metadata": {
    "scrolled": true
   },
   "outputs": [],
   "source": [
    "# Delete last files to avoid overwriting\n",
    "for file in arcpy.ListFeatureClasses('Watershed_poly_*'):\n",
    "    arcpy.management.Delete(file)\n",
    "    print(f\"Removing: {file}\")"
   ]
  },
  {
   "cell_type": "code",
   "execution_count": null,
   "metadata": {
    "scrolled": true
   },
   "outputs": [],
   "source": [
    "# Load fluxes rasters --> made with ArcGIs Pro user interface\n",
    "flow_acc = arcpy.Raster(\"flow_accumulation_raster.tiff\")\n",
    "flow_dir = arcpy.Raster(\"flow_direction_raster.tif\")\n",
    "print(\"Fluxes rasters loaded.\")"
   ]
  },
  {
   "cell_type": "code",
   "execution_count": null,
   "metadata": {
    "scrolled": true
   },
   "outputs": [],
   "source": [
    "i = 0\n",
    "total = arcpy.GetCount_management(\"sampled_points\")[0]\n",
    "\n",
    "# Iterate hydrology function through sampled points\n",
    "for row in arcpy.da.SearchCursor(\"sampled_points\", [\"ID\", \"SHAPE@\"]):\n",
    "    Value = row[0]\n",
    "    Value = Value.replace(\"-\",\"_\") # To allow using ID name in filename\n",
    "    geometry = row[1]\n",
    "    print(f\"Processing: ID Terrain: {Value}, Geometry: {geometry}\")\n",
    "    \n",
    "    success = False\n",
    "    \n",
    "    # Try block used to handle errors\n",
    "    # In case of error in the try block, 3 attempts are done to avoid \"random\" errors\n",
    "    for attempt in range(3):\n",
    "        try:\n",
    "            Snap_pour_raster = arcpy.sa.SnapPourPoint(geometry, flow_acc, 0)\n",
    "\n",
    "            Watersh = arcpy.sa.Watershed(flow_dir, Snap_pour_raster)\n",
    "            Watershed_poly = f\"Watershed_poly_{Value}\"\n",
    "\n",
    "            print(\"Point polygon saved at: \", Watershed_poly)\n",
    "\n",
    "            arcpy.conversion.RasterToPolygon(in_raster = Watersh, out_polygon_features = Watershed_poly)\n",
    "            success = True\n",
    "            break\n",
    "        except Exception as e:\n",
    "            print(f\"Attempt {attempt + 1}/3 failed for ID {Value}. Error: {e}\")\n",
    "    \n",
    "    if not success:\n",
    "        print(f\"##### Failed to process ID {Value} after 3 attempts #####\\n\")\n",
    "        \n",
    "    arcpy.management.ClearWorkspaceCache()\n",
    "    \n",
    "    i = i+1\n",
    "    print(f\"{i}/{total}\")\n",
    "    \n",
    "print(\"Point watershed processing finished.\")"
   ]
  },
  {
   "cell_type": "code",
   "execution_count": null,
   "metadata": {
    "scrolled": true
   },
   "outputs": [],
   "source": [
    "# Merging all resulting files ans saving output\n",
    "\n",
    "arcpy.management.Delete(\"merge_watershed_final.shp\")\n",
    "\n",
    "watershed_poly_features = []\n",
    "for fc in arcpy.ListFeatureClasses('Watershed_poly_*'):\n",
    "        watershed_poly_features.append(fc)\n",
    "\n",
    "arcpy.management.Merge(watershed_poly_features, \"merge_watershed_final\", \"\",\"ADD_SOURCE_INFO\")\n",
    "arcpy.conversion.ExportFeatures(\"merge_watershed_final\", \"merge_watershed_final.shp\")\n",
    "\n",
    "print(\"Algorithm successfully finished\")\n",
    "\n",
    "arcpy.CheckInExtension(\"Spatial\")"
   ]
  }
 ],
 "metadata": {
  "kernelspec": {
   "display_name": "ArcGISPro",
   "language": "Python",
   "name": "python3"
  },
  "language_info": {
   "file_extension": ".py",
   "name": "python",
   "version": "3"
  }
 },
 "nbformat": 4,
 "nbformat_minor": 2
}
